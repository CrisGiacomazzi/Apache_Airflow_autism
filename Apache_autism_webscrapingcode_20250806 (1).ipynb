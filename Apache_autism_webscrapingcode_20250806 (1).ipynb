{
  "nbformat": 4,
  "nbformat_minor": 0,
  "metadata": {
    "colab": {
      "provenance": []
    },
    "kernelspec": {
      "name": "python3",
      "display_name": "Python 3"
    },
    "language_info": {
      "name": "python"
    }
  },
  "cells": [
    {
      "cell_type": "code",
      "execution_count": null,
      "metadata": {
        "id": "3thGsbOqLV5f"
      },
      "outputs": [],
      "source": [
        "import requests\n",
        "from bs4 import BeautifulSoup\n",
        "import pandas as pd\n",
        "from datetime import datetime"
      ]
    },
    {
      "cell_type": "code",
      "source": [
        "def scrape_autism_alliance_news():\n",
        "    url = 'https://autismalliance.ca/news/?news-topic=&year=&page=1'\n",
        "    headers = {'User-Agent': 'Mozilla/5.0'}\n",
        "\n",
        "    response = requests.get(url, headers=headers)\n",
        "    response.raise_for_status()\n",
        "\n",
        "    soup = BeautifulSoup(response.text, 'html.parser')\n",
        "\n",
        "    title_elements = soup.find_all('a', class_='archive-article__link')\n",
        "    date_elements = soup.find_all('p', class_='archive-article__date')\n",
        "\n",
        "    results = []\n",
        "\n",
        "    for title_tag, date_tag in zip(title_elements, date_elements):\n",
        "        title_text = title_tag.get_text(strip=True)\n",
        "        date_text = date_tag.get_text(strip=True)\n",
        "\n",
        "        # Convert string date to datetime object\n",
        "        try:\n",
        "            pub_date = datetime.strptime(date_text, '%B %d, %Y').date()\n",
        "        except ValueError:\n",
        "            continue  # skip invalid date formats\n",
        "\n",
        "        # Apply filters\n",
        "        if 'autism' in title_text.lower() or 'austim' in title_text.lower():\n",
        "            if pub_date > datetime.today().date():\n",
        "                results.append({\n",
        "                    'title': title_text,\n",
        "                    'date': pub_date,\n",
        "                    'url': title_tag['href']\n",
        "                })\n",
        "\n",
        "    # Save results to CSV file\n",
        "    if results:\n",
        "        df = pd.DataFrame(results)\n",
        "        df.to_csv('autism_alliance_news.csv', mode='a', header=not pd.io.common.file_exists('autism_alliance_news.csv'), index=False)\n",
        "        print(f\"{len(results)} new article(s) collected and saved.\")\n",
        "    else:\n",
        "        print(\"No new articles with 'autism/austim' and a future date found.\")\n",
        "\n",
        "# Run the function if this script is executed\n",
        "if __name__ == \"__main__\":\n",
        "    scrape_autism_alliance_news()\n"
      ],
      "metadata": {
        "colab": {
          "base_uri": "https://localhost:8080/"
        },
        "id": "Rld017rfaOLd",
        "outputId": "c4b3f47a-0239-436a-dcce-984201167da4"
      },
      "execution_count": null,
      "outputs": [
        {
          "output_type": "stream",
          "name": "stdout",
          "text": [
            "No new articles with 'autism/austim' and a future date found.\n"
          ]
        }
      ]
    }
  ]
}